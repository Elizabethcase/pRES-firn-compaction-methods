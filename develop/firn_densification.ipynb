{
 "cells": [
  {
   "cell_type": "markdown",
   "metadata": {},
   "source": [
    "# Firn densification model & exploration"
   ]
  },
  {
   "cell_type": "code",
   "execution_count": null,
   "metadata": {
    "collapsed": true
   },
   "outputs": [],
   "source": [
    "# model function\n",
    "update_params = 1 #0 if no update, 1 if update\n",
    "plot_opt = 0 #0 or 1 if plot function is desired\n",
    "ts = 1000 #timesteps between plots\n",
    "save_during_run = 0 #choose whether or not to save workspace every ts*q timesteps during run\n",
    "q = 4 #save every ts*q timesteps\n",
    "current_ae_main = {} #initializes save cell\n",
    "\n",
    "if update_params == 1\n",
    "    densification_parameters(kg_in,b_in) #creates d_param\n",
    "end\n",
    "\n",
    "load('d_params.mat') #loads in matfile with all variables\n",
    "\n",
    "#FP_core = load_FP_core();\n",
    "#FP_pRES = load_FP_pRES();"
   ]
  }
 ],
 "metadata": {
  "kernelspec": {
   "display_name": "Python 3",
   "language": "python",
   "name": "python3"
  },
  "language_info": {
   "codemirror_mode": {
    "name": "ipython",
    "version": 3
   },
   "file_extension": ".py",
   "mimetype": "text/x-python",
   "name": "python",
   "nbconvert_exporter": "python",
   "pygments_lexer": "ipython3",
   "version": "3.6.3"
  }
 },
 "nbformat": 4,
 "nbformat_minor": 2
}
