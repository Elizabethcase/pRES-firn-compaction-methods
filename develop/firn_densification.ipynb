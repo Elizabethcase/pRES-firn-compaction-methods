{
 "cells": [
  {
   "cell_type": "markdown",
   "metadata": {},
   "source": [
    "# Firn densification model & exploration"
   ]
  },
  {
   "cell_type": "markdown",
   "metadata": {
    "collapsed": true
   },
   "source": [
    "Figuring out how to make the firn densification model run in python, using pandas, numpy and matplotlib."
   ]
  },
  {
   "cell_type": "code",
   "execution_count": 48,
   "metadata": {},
   "outputs": [],
   "source": [
    "import pandas as pd\n",
    "import numpy as np\n",
    "from numpy import exp, linspace\n",
    "from scipy.interpolate import griddata\n",
    "from scipy.integrate import cumtrapz\n",
    "\n",
    "%matplotlib inline"
   ]
  },
  {
   "cell_type": "markdown",
   "metadata": {},
   "source": [
    "Before we get started, decide on whether you want to see plotting happen, and if so how often, and if you want to save parameter evolution, and if so how often."
   ]
  },
  {
   "cell_type": "code",
   "execution_count": 2,
   "metadata": {
    "collapsed": true
   },
   "outputs": [],
   "source": [
    "update_params = 1 #0 if no update, 1 if update\n",
    "plot_opt = 0 #0 or 1 if plot function is desired\n",
    "ts = 1000 # timesteps between plots\n",
    "save_during_run = 0 # choose whether or not to save workspace every ts*q timesteps during run\n",
    "q = 4 #save every ts*q timesteps\n",
    "save_var = ['b','rho','z','w','T','r2'] #change this based on what info you want to save\n",
    "\n",
    "last_dens_save = pd.DataFrame(columns=save_var) #initializes save as pd data frame --> remember to export this later to a specific location"
   ]
  },
  {
   "cell_type": "code",
   "execution_count": null,
   "metadata": {},
   "outputs": [],
   "source": []
  },
  {
   "cell_type": "code",
   "execution_count": 5,
   "metadata": {},
   "outputs": [],
   "source": [
    "# want to load and/or update parameters.. note this may need to be made into a function that takes variables\n",
    "from densification_parameters import *"
   ]
  },
  {
   "cell_type": "code",
   "execution_count": 84,
   "metadata": {},
   "outputs": [
    {
     "data": {
      "text/plain": [
       "149"
      ]
     },
     "execution_count": 84,
     "metadata": {},
     "output_type": "execute_result"
    }
   ],
   "source": [
    "len(sigma)"
   ]
  },
  {
   "cell_type": "code",
   "execution_count": 85,
   "metadata": {},
   "outputs": [
    {
     "name": "stdout",
     "output_type": "stream",
     "text": [
      "150\n"
     ]
    },
    {
     "ename": "IndexError",
     "evalue": "list index out of range",
     "output_type": "error",
     "traceback": [
      "\u001b[0;31m---------------------------------------------------------------------------\u001b[0m",
      "\u001b[0;31mIndexError\u001b[0m                                Traceback (most recent call last)",
      "\u001b[0;32m<ipython-input-85-27af746f5381>\u001b[0m in \u001b[0;36m<module>\u001b[0;34m()\u001b[0m\n\u001b[1;32m      1\u001b[0m \u001b[0;32mfor\u001b[0m \u001b[0mj\u001b[0m \u001b[0;32min\u001b[0m \u001b[0mrange\u001b[0m\u001b[0;34m(\u001b[0m\u001b[0mlen\u001b[0m\u001b[0;34m(\u001b[0m\u001b[0mz\u001b[0m\u001b[0;34m)\u001b[0m\u001b[0;34m,\u001b[0m\u001b[0mnp\u001b[0m\u001b[0;34m.\u001b[0m\u001b[0mmin\u001b[0m\u001b[0;34m(\u001b[0m\u001b[0mJ\u001b[0m\u001b[0;34m)\u001b[0m\u001b[0;34m-\u001b[0m\u001b[0;36m1\u001b[0m\u001b[0;34m,\u001b[0m\u001b[0;34m-\u001b[0m\u001b[0;36m1\u001b[0m\u001b[0;34m)\u001b[0m\u001b[0;34m:\u001b[0m\u001b[0;34m\u001b[0m\u001b[0m\n\u001b[1;32m      2\u001b[0m     \u001b[0mprint\u001b[0m\u001b[0;34m(\u001b[0m\u001b[0mj\u001b[0m\u001b[0;34m)\u001b[0m\u001b[0;34m\u001b[0m\u001b[0m\n\u001b[0;32m----> 3\u001b[0;31m     \u001b[0mw\u001b[0m\u001b[0;34m[\u001b[0m\u001b[0mj\u001b[0m\u001b[0;34m-\u001b[0m\u001b[0;36m1\u001b[0m\u001b[0;34m]\u001b[0m \u001b[0;34m=\u001b[0m \u001b[0mw\u001b[0m\u001b[0;34m[\u001b[0m\u001b[0mj\u001b[0m\u001b[0;34m]\u001b[0m \u001b[0;34m+\u001b[0m \u001b[0;34m(\u001b[0m\u001b[0;36m1\u001b[0m\u001b[0;34m/\u001b[0m\u001b[0mrho_prev\u001b[0m\u001b[0;34m[\u001b[0m\u001b[0mj\u001b[0m\u001b[0;34m]\u001b[0m\u001b[0;34m)\u001b[0m\u001b[0;34m*\u001b[0m\u001b[0mkc_high\u001b[0m\u001b[0;34m*\u001b[0m\u001b[0;34m(\u001b[0m\u001b[0mrho_i\u001b[0m\u001b[0;34m-\u001b[0m\u001b[0mrho_prev\u001b[0m\u001b[0;34m[\u001b[0m\u001b[0mj\u001b[0m\u001b[0;34m]\u001b[0m\u001b[0;34m)\u001b[0m\u001b[0;34m*\u001b[0m\u001b[0msigma\u001b[0m\u001b[0;34m[\u001b[0m\u001b[0mj\u001b[0m\u001b[0;34m]\u001b[0m\u001b[0;34m*\u001b[0m\u001b[0mexp\u001b[0m\u001b[0;34m(\u001b[0m\u001b[0;34m-\u001b[0m\u001b[0mEc\u001b[0m\u001b[0;34m/\u001b[0m\u001b[0;34m(\u001b[0m\u001b[0mR\u001b[0m\u001b[0;34m*\u001b[0m\u001b[0mT_prev\u001b[0m\u001b[0;34m[\u001b[0m\u001b[0mj\u001b[0m\u001b[0;34m]\u001b[0m\u001b[0;34m)\u001b[0m\u001b[0;34m)\u001b[0m\u001b[0;34m*\u001b[0m\u001b[0mdz\u001b[0m\u001b[0;34m/\u001b[0m\u001b[0mr2_prev\u001b[0m\u001b[0;34m[\u001b[0m\u001b[0mj\u001b[0m\u001b[0;34m]\u001b[0m\u001b[0;34m\u001b[0m\u001b[0m\n\u001b[0m",
      "\u001b[0;31mIndexError\u001b[0m: list index out of range"
     ]
    }
   ],
   "source": [
    "for j in range(len(z),np.min(J)-1,-1):\n",
    "    print(j)\n",
    "    w[j-1] = w[j] + (1/rho_prev[j])*kc_high*(rho_i-rho_prev[j])*sigma[j]*exp(-Ec/(R*T_prev[j]))*dz/r2_prev[j]\n"
   ]
  },
  {
   "cell_type": "code",
   "execution_count": 14,
   "metadata": {},
   "outputs": [
    {
     "ename": "IndentationError",
     "evalue": "unexpected indent (<ipython-input-14-c573e7898c56>, line 4)",
     "output_type": "error",
     "traceback": [
      "\u001b[0;36m  File \u001b[0;32m\"<ipython-input-14-c573e7898c56>\"\u001b[0;36m, line \u001b[0;32m4\u001b[0m\n\u001b[0;31m    zs = (b*rho_i/rho_s - w(1)).* dt\u001b[0m\n\u001b[0m    ^\u001b[0m\n\u001b[0;31mIndentationError\u001b[0m\u001b[0;31m:\u001b[0m unexpected indent\n"
     ]
    }
   ],
   "source": [
    "for i in t\n",
    "\n",
    "    # updates grid given accumulation, advection \n",
    "    zs = (b*rho_i/rho_s - w[1])*dt\n",
    "    \n",
    "    firn_base = z[-1] + zs \n",
    "\n",
    "    # firn_base/(desired grid_size)\n",
    "    z = linspace(0,firn_base,grid_size) #z = 0 at top, depth changes\n",
    "    dz = np.mean(np.diff(z)) \n",
    "        \n",
    "    # reinterpolate variables on new grid, assuming topmost grid section at surface\n",
    "\n",
    "    #new_b = b*rho_i/rho_s*dt/dz # percent of top grid step that has surface properties (new accumulation)\n",
    "\n",
    "    rho_prev = griddata(z_prev+zs,rho_prev,z,method='linear',fill_value='extrapolate')\n",
    "    rho_prev[1] = rho_s#new_b*rho_s + (1-new_b)*rho_prev(2)\n",
    "\n",
    "    #T\n",
    "    T_prev = griddata(z_prev + zs,T_prev,z,method='linear',fill_value='extrapolate')\n",
    "    T_prev[1] = T_s#new_b*T_s + (1-new_b)*T_prev(2)\n",
    "\n",
    "    #r2\n",
    "    r2_prev = griddata(z_prev + zs,r2_prev,z,method='linear',fill_value='extrapolate')\n",
    "    r2_prev[1] = r2_s#new_b*r2_s + (1-new_b)*r2_prev(2)\n",
    "\n",
    "\n",
    "    ##### update overburden\n",
    "    sigma = cumtrapz((g*rho_prev*dz)) # is sigma 0 the top? then should go from \n",
    "\n",
    "    ##### update velocity\n",
    "    w = [0]*len(z)\n",
    "    w[-1] = b*rho_i/rho_prev[-1] #assumes advection out base at average accumulation rate\n",
    "\n",
    "    J = np.where(rho_prev > 550)\n",
    "\n",
    "    #rho > 550\n",
    "    for j = len(z):-1:min(J)\n",
    "        w(j-1) = w(j) + (1./rho_prev(j))*kc_high.*(rho_i-rho_prev(j)).*sigma(j).*exp(-Ec./(R.*T_prev(j))).*dz./r2_prev(j)\n",
    "\n",
    "    #transition phase based on morris?\n",
    "\n",
    "    # rho < 550\n",
    "    for j = min(J):-1:2\n",
    "        w(j-1) = w(j) + (1./rho_prev(j)).*kc_low.*(rho_i-rho_prev(j)).*sigma(j).*exp(-Ec./(R.*T_prev(j))).*dz./r2_prev(j)\n",
    "\n",
    "            \n",
    "            \n",
    "    #### update temperature\n",
    "    kappa = kappa_i * (rho_prev./rho_i).**2 \n",
    "    alpha = kappa./(rho_prev.*c_p)\n",
    "\n",
    "    T(2:-2) = T(2:-2)+ dt*( alpha(2:-2).*(T(3:-1)-2*T(2:-2)+T(1:-3))./dz**2 - w(2:-2).*(T(3:-1)-T(1:-3))./(2*dz) )   \n",
    "\n",
    "    #BCs\n",
    "       #T_s = 15*sin(2*pi*t(i)/(lambda*secpy))+Tav\n",
    "    T(1) = T_s\n",
    "    T(-1) = T_b #T(-2) + (G/kappa_i * dz)  \n",
    "    #T = linspace(T_s,T_b,grid_size)\n",
    "\n",
    "\n",
    "    #### update grain size\n",
    "       r2(2:-1) = r2_prev(2:-1)  + dt *((w(1:-2)+w(2:-1))/2.*(r2_prev(1:-2)-r2_prev(2:-1))./dz + kg*exp(-Eg./(R.*T(2:-1))) )   \n",
    "\n",
    "\n",
    "    #### update density\n",
    "\n",
    "    rho(2:-1) = rho_prev(2:-1) + dt.*((rho_prev(1:-2) .* w(1:-2)) - (rho_prev(2:-1) .* w(2:-1)))./dz\n",
    "    #rho(1) = rho_s #should interpolate this, not set to rho_s\n",
    "\n",
    "    #### convergence criteria -- sum of squares and ignores first 50 ( takes a\n",
    "    #minute to deviate from input)\n",
    "    if (sum((rho-rho_prev).**2)) < 1e-6 && i > 50 || i >= (len(t)-1)\n",
    "        a = len(last_dens_save) + 1\n",
    "        #last_dens_save = {b,z,w,T,r2,rho}\n",
    "        break\n",
    "\n",
    "\n",
    "    #save variables every j/4 time steps\n",
    "    if save_during_run == 1\n",
    "        if rem(i,ts*q) == 0\n",
    "            a = len(current_ae_main) + 1\n",
    "            #last_dens_save{a} = {b,z,w,T,r2,rho}\n",
    "            #save('last_dens_save')\n",
    "\n",
    "\n",
    "    # update variables\n",
    "    rho_prev = rho\n",
    "    T_prev = T\n",
    "    z_prev = z\n",
    "    r2_prev = r2\n"
   ]
  },
  {
   "cell_type": "code",
   "execution_count": 31,
   "metadata": {},
   "outputs": [
    {
     "ename": "TypeError",
     "evalue": "'numpy.ndarray' object is not callable",
     "output_type": "error",
     "traceback": [
      "\u001b[0;31m---------------------------------------------------------------------------\u001b[0m",
      "\u001b[0;31mTypeError\u001b[0m                                 Traceback (most recent call last)",
      "\u001b[0;32m<ipython-input-31-982e10761d60>\u001b[0m in \u001b[0;36m<module>\u001b[0;34m()\u001b[0m\n\u001b[1;32m      2\u001b[0m \u001b[0;34m\u001b[0m\u001b[0m\n\u001b[1;32m      3\u001b[0m     \u001b[0;31m# updates grid given accumulation, advection\u001b[0m\u001b[0;34m\u001b[0m\u001b[0;34m\u001b[0m\u001b[0m\n\u001b[0;32m----> 4\u001b[0;31m     \u001b[0mzs\u001b[0m \u001b[0;34m=\u001b[0m \u001b[0;34m(\u001b[0m\u001b[0mb\u001b[0m\u001b[0;34m*\u001b[0m\u001b[0mrho_i\u001b[0m\u001b[0;34m/\u001b[0m\u001b[0mrho_s\u001b[0m \u001b[0;34m-\u001b[0m \u001b[0mw\u001b[0m\u001b[0;34m(\u001b[0m\u001b[0;36m1\u001b[0m\u001b[0;34m)\u001b[0m\u001b[0;34m)\u001b[0m\u001b[0;34m*\u001b[0m \u001b[0mdt\u001b[0m\u001b[0;34m\u001b[0m\u001b[0m\n\u001b[0m",
      "\u001b[0;31mTypeError\u001b[0m: 'numpy.ndarray' object is not callable"
     ]
    }
   ],
   "source": []
  },
  {
   "cell_type": "code",
   "execution_count": 32,
   "metadata": {},
   "outputs": [
    {
     "data": {
      "text/plain": [
       "array([[ 0.,  0.,  0.,  0.,  0.,  0.,  0.,  0.,  0.,  0.,  0.,  0.,  0.,\n",
       "         0.,  0.,  0.,  0.,  0.,  0.,  0.,  0.,  0.,  0.,  0.,  0.,  0.,\n",
       "         0.,  0.,  0.,  0.,  0.,  0.,  0.,  0.,  0.,  0.,  0.,  0.,  0.,\n",
       "         0.,  0.,  0.,  0.,  0.,  0.,  0.,  0.,  0.,  0.,  0.,  0.,  0.,\n",
       "         0.,  0.,  0.,  0.,  0.,  0.,  0.,  0.,  0.,  0.,  0.,  0.,  0.,\n",
       "         0.,  0.,  0.,  0.,  0.,  0.,  0.,  0.,  0.,  0.,  0.,  0.,  0.,\n",
       "         0.,  0.,  0.,  0.,  0.,  0.,  0.,  0.,  0.,  0.,  0.,  0.,  0.,\n",
       "         0.,  0.,  0.,  0.,  0.,  0.,  0.,  0.,  0.,  0.,  0.,  0.,  0.,\n",
       "         0.,  0.,  0.,  0.,  0.,  0.,  0.,  0.,  0.,  0.,  0.,  0.,  0.,\n",
       "         0.,  0.,  0.,  0.,  0.,  0.,  0.,  0.,  0.,  0.,  0.,  0.,  0.,\n",
       "         0.,  0.,  0.,  0.,  0.,  0.,  0.,  0.,  0.,  0.,  0.,  0.,  0.,\n",
       "         0.,  0.,  0.,  0.,  0.,  0.,  0.]])"
      ]
     },
     "execution_count": 32,
     "metadata": {},
     "output_type": "execute_result"
    }
   ],
   "source": []
  },
  {
   "cell_type": "code",
   "execution_count": null,
   "metadata": {
    "collapsed": true
   },
   "outputs": [],
   "source": []
  }
 ],
 "metadata": {
  "kernelspec": {
   "display_name": "Python 3",
   "language": "python",
   "name": "python3"
  },
  "language_info": {
   "codemirror_mode": {
    "name": "ipython",
    "version": 3
   },
   "file_extension": ".py",
   "mimetype": "text/x-python",
   "name": "python",
   "nbconvert_exporter": "python",
   "pygments_lexer": "ipython3",
   "version": "3.6.3"
  }
 },
 "nbformat": 4,
 "nbformat_minor": 2
}
